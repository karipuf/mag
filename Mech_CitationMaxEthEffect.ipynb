{
 "cells": [
  {
   "cell_type": "markdown",
   "metadata": {},
   "source": [
    "# Effect of most common ethnicity on distribution in population"
   ]
  },
  {
   "cell_type": "code",
   "execution_count": 70,
   "metadata": {
    "collapsed": false,
    "deletable": true,
    "editable": true
   },
   "outputs": [],
   "source": [
    "import re\n",
    "import pandas as pd\n",
    "import numpy as np\n",
    "import pickle\n",
    "import ethnicity_funcs as ef\n",
    "import pylab as pl\n",
    "from disambig_funcs import Gini\n",
    "from scipy.stats import pearsonr\n",
    "from statistics import mode,StatisticsError\n",
    "from collections import Counter\n",
    "from random import choice"
   ]
  },
  {
   "cell_type": "code",
   "execution_count": 19,
   "metadata": {
    "collapsed": true
   },
   "outputs": [],
   "source": [
    "# Utility functions\n",
    "\n",
    "# Return mode, or NaN if no unique mode found\n",
    "def uniqueMode(tmp):\n",
    "    try:\n",
    "        return mode(tmp)\n",
    "    except StatisticsError:\n",
    "        return np.nan"
   ]
  },
  {
   "cell_type": "markdown",
   "metadata": {
    "deletable": true,
    "editable": true
   },
   "source": [
    "## Reading in the data files and some pre-processing"
   ]
  },
  {
   "cell_type": "code",
   "execution_count": 3,
   "metadata": {
    "collapsed": true
   },
   "outputs": [],
   "source": [
    "baseField='MechanicalEngineering'\n",
    "ethFile='ethnicitiesMech.pkl'"
   ]
  },
  {
   "cell_type": "code",
   "execution_count": 4,
   "metadata": {
    "collapsed": true,
    "deletable": true,
    "editable": true
   },
   "outputs": [],
   "source": [
    "# Loading in the CSV files\n",
    "ethdict=pickle.load(open(ethFile,\"rb\"))\n",
    "paa=pd.read_csv(baseField+\"SelectedPaperAuthorAffiliations.txt\",'\\t',usecols=[0,1],names=['pid','aid'])\n",
    "authors=pd.read_csv(baseField+'SelectedAuthors.txt','\\t',names=['aid','name'])\n",
    "refs=pd.read_csv(baseField+\"SelectedPaperReferences.txt\",'\\t',names=['pid','refpid'])"
   ]
  },
  {
   "cell_type": "code",
   "execution_count": 5,
   "metadata": {
    "collapsed": true,
    "deletable": true,
    "editable": true
   },
   "outputs": [],
   "source": [
    "# Creating file with pid,aid,name,eth\n",
    "df=pd.merge(paa,authors,on='aid')\n",
    "df['eth']=df.name.apply(lambda tmp: ef.name2ethnicity(tmp,ethdict))"
   ]
  },
  {
   "cell_type": "code",
   "execution_count": 6,
   "metadata": {
    "collapsed": false,
    "deletable": true,
    "editable": true
   },
   "outputs": [],
   "source": [
    "# Creating lookup dict from pid to ';' delimited eths\n",
    "pid_eths=df.groupby('pid')['eth'].apply(lambda tmp:';'.join(tmp)).reset_index().rename(columns={'eth':'eths'})\n",
    "pideths_dict=dict(pid_eths.itertuples(index=False))\n",
    "\n",
    "# Most common ethnicity for each paper\n",
    "pid_eths['ethmode']=pid_eths['eths'].apply(lambda tmp:uniqueMode(tmp.split(';')))\n",
    "pid_eths=pid_eths.dropna()"
   ]
  },
  {
   "cell_type": "code",
   "execution_count": 35,
   "metadata": {
    "collapsed": false
   },
   "outputs": [],
   "source": [
    "# Calculating default ethnicity frequencies\n",
    "ethpdf=df.eth.value_counts(normalize=True).to_dict()"
   ]
  },
  {
   "cell_type": "markdown",
   "metadata": {
    "deletable": true,
    "editable": true
   },
   "source": [
    "## Calculating gini indices for pids, and for all the refs of a pids"
   ]
  },
  {
   "cell_type": "code",
   "execution_count": 20,
   "metadata": {
    "collapsed": false,
    "deletable": true,
    "editable": true
   },
   "outputs": [],
   "source": [
    "# Find the list of all papers that cite a paper\n",
    "refpid_pids=refs.groupby('refpid')['pid'].apply(lambda tmp:';'.join(tmp)).reset_index().rename(columns={'pid':'citingpids','refpid':'pid'})\n",
    "\n",
    "# Create master list of citing ethnicities for each pid\n",
    "refpid_pids['citingeths']=refpid_pids['citingpids'].apply(lambda tmp: ';'.join([pideths_dict[tmp2] for tmp2 in tmp.split(';')]))"
   ]
  },
  {
   "cell_type": "code",
   "execution_count": 45,
   "metadata": {
    "collapsed": true
   },
   "outputs": [],
   "source": []
  },
  {
   "cell_type": "code",
   "execution_count": 78,
   "metadata": {
    "collapsed": false
   },
   "outputs": [],
   "source": [
    "# Calculating \"boost\"\n",
    "soldf=pd.merge(pid_eths,refpid_pids,on=\"pid\")[['pid','ethmode','citingeths']].set_index('pid')\n",
    "\n",
    "res=[]\n",
    "fakeres=[]\n",
    "eths=list(ethpdf.keys())\n",
    "for ind in soldf.index:\n",
    "    \n",
    "    ethmode=soldf.loc[ind]['ethmode']\n",
    "    randeth=choice(eths)\n",
    "    \n",
    "    citingeths=soldf.loc[ind]['citingeths'].split(';')\n",
    "    cc=Counter(citingeths)\n",
    "    ccsum=len(citingeths)\n",
    "    res.append((cc[ethmode]/ccsum)/ethpdf[ethmode])\n",
    "    fakeres.append((cc[randeth]/ccsum)/ethpdf[randeth])"
   ]
  },
  {
   "cell_type": "code",
   "execution_count": 79,
   "metadata": {
    "collapsed": false
   },
   "outputs": [
    {
     "name": "stdout",
     "output_type": "stream",
     "text": [
      "3.20536901742\n",
      "0.98195183148\n"
     ]
    }
   ],
   "source": [
    "print(np.mean(res))\n",
    "print(np.mean(fakeres))"
   ]
  },
  {
   "cell_type": "code",
   "execution_count": 38,
   "metadata": {
    "collapsed": false
   },
   "outputs": [
    {
     "data": {
      "text/html": [
       "<div>\n",
       "<style>\n",
       "    .dataframe thead tr:only-child th {\n",
       "        text-align: right;\n",
       "    }\n",
       "\n",
       "    .dataframe thead th {\n",
       "        text-align: left;\n",
       "    }\n",
       "\n",
       "    .dataframe tbody tr th {\n",
       "        vertical-align: top;\n",
       "    }\n",
       "</style>\n",
       "<table border=\"1\" class=\"dataframe\">\n",
       "  <thead>\n",
       "    <tr style=\"text-align: right;\">\n",
       "      <th></th>\n",
       "      <th>pid</th>\n",
       "      <th>eths</th>\n",
       "      <th>ethmode</th>\n",
       "    </tr>\n",
       "  </thead>\n",
       "  <tbody>\n",
       "    <tr>\n",
       "      <th>0</th>\n",
       "      <td>00003957</td>\n",
       "      <td>GreaterAfrican,Muslim</td>\n",
       "      <td>GreaterAfrican,Muslim</td>\n",
       "    </tr>\n",
       "    <tr>\n",
       "      <th>1</th>\n",
       "      <td>0001F1E4</td>\n",
       "      <td>GreaterEuropean,British</td>\n",
       "      <td>GreaterEuropean,British</td>\n",
       "    </tr>\n",
       "    <tr>\n",
       "      <th>2</th>\n",
       "      <td>00032959</td>\n",
       "      <td>GreaterEuropean,British</td>\n",
       "      <td>GreaterEuropean,British</td>\n",
       "    </tr>\n",
       "    <tr>\n",
       "      <th>3</th>\n",
       "      <td>0005C675</td>\n",
       "      <td>Asian,GreaterEastAsian,EastAsian</td>\n",
       "      <td>Asian,GreaterEastAsian,EastAsian</td>\n",
       "    </tr>\n",
       "    <tr>\n",
       "      <th>4</th>\n",
       "      <td>00139132</td>\n",
       "      <td>GreaterEuropean,British</td>\n",
       "      <td>GreaterEuropean,British</td>\n",
       "    </tr>\n",
       "  </tbody>\n",
       "</table>\n",
       "</div>"
      ],
      "text/plain": [
       "        pid                              eths  \\\n",
       "0  00003957             GreaterAfrican,Muslim   \n",
       "1  0001F1E4           GreaterEuropean,British   \n",
       "2  00032959           GreaterEuropean,British   \n",
       "3  0005C675  Asian,GreaterEastAsian,EastAsian   \n",
       "4  00139132           GreaterEuropean,British   \n",
       "\n",
       "                            ethmode  \n",
       "0             GreaterAfrican,Muslim  \n",
       "1           GreaterEuropean,British  \n",
       "2           GreaterEuropean,British  \n",
       "3  Asian,GreaterEastAsian,EastAsian  \n",
       "4           GreaterEuropean,British  "
      ]
     },
     "execution_count": 38,
     "metadata": {},
     "output_type": "execute_result"
    }
   ],
   "source": [
    "pid_eths.head()"
   ]
  },
  {
   "cell_type": "code",
   "execution_count": 32,
   "metadata": {
    "collapsed": false
   },
   "outputs": [
    {
     "data": {
      "text/html": [
       "<div>\n",
       "<style>\n",
       "    .dataframe thead tr:only-child th {\n",
       "        text-align: right;\n",
       "    }\n",
       "\n",
       "    .dataframe thead th {\n",
       "        text-align: left;\n",
       "    }\n",
       "\n",
       "    .dataframe tbody tr th {\n",
       "        vertical-align: top;\n",
       "    }\n",
       "</style>\n",
       "<table border=\"1\" class=\"dataframe\">\n",
       "  <thead>\n",
       "    <tr style=\"text-align: right;\">\n",
       "      <th></th>\n",
       "      <th>pid</th>\n",
       "      <th>citingpids</th>\n",
       "      <th>citingeths</th>\n",
       "    </tr>\n",
       "  </thead>\n",
       "  <tbody>\n",
       "    <tr>\n",
       "      <th>0</th>\n",
       "      <td>00003957</td>\n",
       "      <td>75C78237;777D79D3;1267E545</td>\n",
       "      <td>GreaterEuropean,EastEuropean;GreaterEuropean,B...</td>\n",
       "    </tr>\n",
       "    <tr>\n",
       "      <th>1</th>\n",
       "      <td>0023450C</td>\n",
       "      <td>78D59D2B</td>\n",
       "      <td>Asian,GreaterEastAsian,EastAsian;Asian,Greater...</td>\n",
       "    </tr>\n",
       "    <tr>\n",
       "      <th>2</th>\n",
       "      <td>003CBCF1</td>\n",
       "      <td>39C66BE6</td>\n",
       "      <td>Asian,GreaterEastAsian,EastAsian;Asian,Greater...</td>\n",
       "    </tr>\n",
       "    <tr>\n",
       "      <th>3</th>\n",
       "      <td>00670764</td>\n",
       "      <td>7F81F026;7A57933E;7AB74B84;7CA4E43E;7BA3A3F5;7...</td>\n",
       "      <td>unknown;Asian,GreaterEastAsian,Japanese;Asian,...</td>\n",
       "    </tr>\n",
       "    <tr>\n",
       "      <th>4</th>\n",
       "      <td>0078A6D8</td>\n",
       "      <td>7A1B98E1</td>\n",
       "      <td>Asian,IndianSubContinent;Asian,IndianSubContinent</td>\n",
       "    </tr>\n",
       "  </tbody>\n",
       "</table>\n",
       "</div>"
      ],
      "text/plain": [
       "        pid                                         citingpids  \\\n",
       "0  00003957                         75C78237;777D79D3;1267E545   \n",
       "1  0023450C                                           78D59D2B   \n",
       "2  003CBCF1                                           39C66BE6   \n",
       "3  00670764  7F81F026;7A57933E;7AB74B84;7CA4E43E;7BA3A3F5;7...   \n",
       "4  0078A6D8                                           7A1B98E1   \n",
       "\n",
       "                                          citingeths  \n",
       "0  GreaterEuropean,EastEuropean;GreaterEuropean,B...  \n",
       "1  Asian,GreaterEastAsian,EastAsian;Asian,Greater...  \n",
       "2  Asian,GreaterEastAsian,EastAsian;Asian,Greater...  \n",
       "3  unknown;Asian,GreaterEastAsian,Japanese;Asian,...  \n",
       "4  Asian,IndianSubContinent;Asian,IndianSubContinent  "
      ]
     },
     "execution_count": 32,
     "metadata": {},
     "output_type": "execute_result"
    }
   ],
   "source": [
    "refpid_pids.head()"
   ]
  },
  {
   "cell_type": "code",
   "execution_count": 203,
   "metadata": {
    "collapsed": false,
    "deletable": true,
    "editable": true
   },
   "outputs": [
    {
     "data": {
      "text/plain": [
       "(0.29432677996224271, 0.0)"
      ]
     },
     "execution_count": 203,
     "metadata": {},
     "output_type": "execute_result"
    }
   ],
   "source": [
    "pearsonr(refpid_pids.gini,refpid_pids.citinggini1)"
   ]
  }
 ],
 "metadata": {
  "anaconda-cloud": {},
  "kernelspec": {
   "display_name": "Python [conda env:py3]",
   "language": "python",
   "name": "conda-env-py3-py"
  },
  "language_info": {
   "codemirror_mode": {
    "name": "ipython",
    "version": 3
   },
   "file_extension": ".py",
   "mimetype": "text/x-python",
   "name": "python",
   "nbconvert_exporter": "python",
   "pygments_lexer": "ipython3",
   "version": "3.5.4"
  }
 },
 "nbformat": 4,
 "nbformat_minor": 2
}
