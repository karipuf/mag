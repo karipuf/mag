{
 "cells": [
  {
   "cell_type": "markdown",
   "metadata": {},
   "source": [
    "# Checking correlation between gini of papers and gini of citing papers"
   ]
  },
  {
   "cell_type": "code",
   "execution_count": 161,
   "metadata": {
    "collapsed": true
   },
   "outputs": [],
   "source": [
    "import re\n",
    "import pandas as pd\n",
    "import numpy as np\n",
    "import pickle\n",
    "import ethnicity_funcs as ef\n",
    "import pylab as pl\n",
    "from disambig_funcs import Gini\n",
    "from scipy.stats import pearsonr"
   ]
  },
  {
   "cell_type": "markdown",
   "metadata": {},
   "source": [
    "## Reading in the data files and some pre-processing"
   ]
  },
  {
   "cell_type": "code",
   "execution_count": null,
   "metadata": {
    "collapsed": true
   },
   "outputs": [],
   "source": [
    "baseField='MechanicalEngineering'\n",
    "ethFile='ethnicitiesMech.pkl'"
   ]
  },
  {
   "cell_type": "code",
   "execution_count": 166,
   "metadata": {
    "collapsed": true
   },
   "outputs": [],
   "source": [
    "# Loading in the CSV files\n",
    "ethdict=pickle.load(open(ethFile,\"rb\"))\n",
    "paa=pd.read_csv(baseField+\"SelectedPaperAuthorAffiliations.txt\",'\\t',usecols=[0,1],names=['pid','aid'])\n",
    "authors=pd.read_csv(baseField+'SelectedAuthors.txt','\\t',names=['aid','name'])\n",
    "refs=pd.read_csv(baseField+\"SelectedPaperReferences.txt\",'\\t',names=['pid','refpid'])"
   ]
  },
  {
   "cell_type": "code",
   "execution_count": 167,
   "metadata": {
    "collapsed": true
   },
   "outputs": [],
   "source": [
    "# Creating file with pid,aid,name,eth\n",
    "df=pd.merge(paa,authors,on='aid')\n",
    "df['eth']=df.name.apply(lambda tmp: ef.name2ethnicity(tmp,ethdict))"
   ]
  },
  {
   "cell_type": "code",
   "execution_count": 178,
   "metadata": {},
   "outputs": [],
   "source": [
    "# Creating lookup dict from pid to ';' delimited eths\n",
    "pid_eths=df.groupby('pid')['eth'].apply(lambda tmp:';'.join(tmp)).reset_index().rename(columns={'eth':'eths'})\n",
    "pideths_dict=dict(pid_eths.itertuples(index=False))"
   ]
  },
  {
   "cell_type": "markdown",
   "metadata": {},
   "source": [
    "## Calculating gini indices for pids, and for all the refs of a pids"
   ]
  },
  {
   "cell_type": "code",
   "execution_count": 195,
   "metadata": {
    "collapsed": true
   },
   "outputs": [],
   "source": [
    "# Function to take a list of pids and return Gini of pooled authors\n",
    "def pids2pooledgini(pids):\n",
    "    eths=';'.join([pideths_dict[tmp] for tmp in pids.split(';')])\n",
    "    return Gini(eths.split(';'))"
   ]
  },
  {
   "cell_type": "code",
   "execution_count": 151,
   "metadata": {},
   "outputs": [],
   "source": [
    "# Creating lookup dict for pid -> gini of the pids\n",
    "pid_gini=df.groupby('pid')['eth'].apply(lambda tmp:Gini(tmp)).reset_index().rename(columns={'eth':'gini'})\n",
    "ginidict=dict(pid_gini.itertuples(index=False))"
   ]
  },
  {
   "cell_type": "code",
   "execution_count": 197,
   "metadata": {},
   "outputs": [],
   "source": [
    "# Find the list of all papers that cite a paper\n",
    "refpid_pids=refs.groupby('refpid')['pid'].apply(lambda tmp:';'.join(tmp)).reset_index().rename(columns={'pid':'citingpids','refpid':'pid'})\n",
    "\n",
    "# Average Gini of all these papers\n",
    "refpid_pids['citinggini1']=refpid_pids['citingpids'].apply(lambda tmp:np.mean([ginidict[tmp2] for tmp2 in tmp.split(';')]))\n",
    "\n",
    "# Gini of pooled authors for all these papers\n",
    "refpid_pids['citinggini2']=refpid_pids['citingpids'].apply(pids2pooledgini)\n",
    "\n",
    "# Gini of the papers themselves\n",
    "refpid_pids=pd.merge(refpid_pids,pid_gini,on='pid')"
   ]
  },
  {
   "cell_type": "code",
   "execution_count": 203,
   "metadata": {},
   "outputs": [
    {
     "data": {
      "text/plain": [
       "(0.29432677996224271, 0.0)"
      ]
     },
     "execution_count": 203,
     "metadata": {},
     "output_type": "execute_result"
    }
   ],
   "source": [
    "pearsonr(refpid_pids.gini,refpid_pids.citinggini1)"
   ]
  }
 ],
 "metadata": {
  "anaconda-cloud": {},
  "kernelspec": {
   "display_name": "Python 3",
   "language": "python",
   "name": "python3"
  },
  "language_info": {
   "codemirror_mode": {
    "name": "ipython",
    "version": 3
   },
   "file_extension": ".py",
   "mimetype": "text/x-python",
   "name": "python",
   "nbconvert_exporter": "python",
   "pygments_lexer": "ipython3",
   "version": "3.6.5"
  }
 },
 "nbformat": 4,
 "nbformat_minor": 2
}
