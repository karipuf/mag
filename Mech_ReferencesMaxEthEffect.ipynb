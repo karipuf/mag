{
 "cells": [
  {
   "cell_type": "markdown",
   "metadata": {},
   "source": [
    "# Effect of most common ethnicity in authorship on the distribution of the referenced articles"
   ]
  },
  {
   "cell_type": "code",
   "execution_count": 14,
   "metadata": {
    "collapsed": true
   },
   "outputs": [],
   "source": [
    "import re\n",
    "import pandas as pd\n",
    "import numpy as np\n",
    "import pickle\n",
    "import ethnicity_funcs as ef\n",
    "import pylab as pl\n",
    "from disambig_funcs import Gini\n",
    "from scipy.stats import pearsonr\n",
    "from statistics import mode,StatisticsError\n",
    "from collections import Counter\n",
    "from random import choice"
   ]
  },
  {
   "cell_type": "code",
   "execution_count": 15,
   "metadata": {
    "collapsed": true
   },
   "outputs": [],
   "source": [
    "# Utility functions\n",
    "\n",
    "# Return mode, or NaN if no unique mode found\n",
    "def uniqueMode(tmp):\n",
    "    try:\n",
    "        return mode(tmp)\n",
    "    except StatisticsError:\n",
    "        return np.nan"
   ]
  },
  {
   "cell_type": "markdown",
   "metadata": {},
   "source": [
    "## Reading in the data files and some pre-processing"
   ]
  },
  {
   "cell_type": "code",
   "execution_count": 16,
   "metadata": {
    "collapsed": true
   },
   "outputs": [],
   "source": [
    "baseField='MechanicalEngineering'\n",
    "ethFile='ethnicitiesMech.pkl'"
   ]
  },
  {
   "cell_type": "code",
   "execution_count": 17,
   "metadata": {
    "collapsed": true
   },
   "outputs": [],
   "source": [
    "# Loading in the CSV files\n",
    "ethdict=pickle.load(open(ethFile,\"rb\"))\n",
    "paa=pd.read_csv(baseField+\"SelectedPaperAuthorAffiliations.txt\",'\\t',usecols=[0,1],names=['pid','aid'])\n",
    "authors=pd.read_csv(baseField+'SelectedAuthors.txt','\\t',names=['aid','name'])\n",
    "refs=pd.read_csv(baseField+\"SelectedPaperReferences.txt\",'\\t',names=['pid','refpid'])"
   ]
  },
  {
   "cell_type": "code",
   "execution_count": 18,
   "metadata": {
    "collapsed": true
   },
   "outputs": [],
   "source": [
    "# Creating file with pid,aid,name,eth\n",
    "df=pd.merge(paa,authors,on='aid')\n",
    "df['eth']=df.name.apply(lambda tmp: ef.name2ethnicity(tmp,ethdict))"
   ]
  },
  {
   "cell_type": "code",
   "execution_count": 19,
   "metadata": {
    "collapsed": true
   },
   "outputs": [],
   "source": [
    "# Creating lookup dict from pid to ';' delimited eths\n",
    "pid_eths=df.groupby('pid')['eth'].apply(lambda tmp:';'.join(tmp)).reset_index().rename(columns={'eth':'eths'})\n",
    "pideths_dict=dict(pid_eths.itertuples(index=False))\n",
    "\n",
    "# Most common ethnicity for each paper\n",
    "pid_eths['ethmode']=pid_eths['eths'].apply(lambda tmp:uniqueMode(tmp.split(';')))\n",
    "pid_eths=pid_eths.dropna()"
   ]
  },
  {
   "cell_type": "code",
   "execution_count": 20,
   "metadata": {
    "collapsed": true
   },
   "outputs": [],
   "source": [
    "# Calculating default ethnicity frequencies\n",
    "ethpdf=df.eth.value_counts(normalize=True).to_dict()"
   ]
  },
  {
   "cell_type": "markdown",
   "metadata": {},
   "source": [
    "## Calculating boost received by most common ethnicity"
   ]
  },
  {
   "cell_type": "code",
   "execution_count": 21,
   "metadata": {
    "collapsed": true
   },
   "outputs": [],
   "source": [
    "# Find the list of all papers that cite a paper\n",
    "refpid_pids=refs.groupby('pid')['refpid'].apply(lambda tmp:';'.join(tmp)).reset_index().rename(columns={'refpid':'citedpids'})\n",
    "\n",
    "# Create master list of cited ethnicities for each pid\n",
    "refpid_pids['citedeths']=refpid_pids['citedpids'].apply(lambda tmp: ';'.join([pideths_dict[tmp2] for tmp2 in tmp.split(';')]))"
   ]
  },
  {
   "cell_type": "code",
   "execution_count": 22,
   "metadata": {
    "collapsed": true
   },
   "outputs": [],
   "source": [
    "# Calculating \"boost\"\n",
    "soldf=pd.merge(pid_eths,refpid_pids,on=\"pid\")[['pid','ethmode','citedeths']].set_index('pid')\n",
    "\n",
    "res=[]\n",
    "fakeres=[]\n",
    "eths=list(ethpdf.keys())\n",
    "for ind in soldf.index:\n",
    "    \n",
    "    ethmode=soldf.loc[ind]['ethmode']\n",
    "    randeth=choice(eths)\n",
    "    \n",
    "    citedeths=soldf.loc[ind]['citedeths'].split(';')\n",
    "    cc=Counter(citedeths)\n",
    "    ccsum=len(citedeths)\n",
    "    res.append((cc[ethmode]/ccsum)/ethpdf[ethmode])\n",
    "    fakeres.append((cc[randeth]/ccsum)/ethpdf[randeth])"
   ]
  },
  {
   "cell_type": "code",
   "execution_count": 23,
   "metadata": {},
   "outputs": [
    {
     "name": "stdout",
     "output_type": "stream",
     "text": [
      "3.2073237388313123\n",
      "0.9429321088765588\n"
     ]
    }
   ],
   "source": [
    "print(np.mean(res))\n",
    "print(np.mean(fakeres))"
   ]
  }
 ],
 "metadata": {
  "anaconda-cloud": {},
  "kernelspec": {
   "display_name": "Python 3",
   "language": "python",
   "name": "python3"
  },
  "language_info": {
   "codemirror_mode": {
    "name": "ipython",
    "version": 3
   },
   "file_extension": ".py",
   "mimetype": "text/x-python",
   "name": "python",
   "nbconvert_exporter": "python",
   "pygments_lexer": "ipython3",
   "version": "3.6.5"
  }
 },
 "nbformat": 4,
 "nbformat_minor": 2
}
